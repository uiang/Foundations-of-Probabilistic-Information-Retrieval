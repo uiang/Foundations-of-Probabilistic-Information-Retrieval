{
 "cells": [
  {
   "cell_type": "code",
   "execution_count": 11,
   "metadata": {
    "collapsed": true
   },
   "outputs": [],
   "source": [
    "import math\n",
    "from argparse import ArgumentParser\n",
    "from collections import Counter, OrderedDict"
   ]
  },
  {
   "cell_type": "code",
   "execution_count": 12,
   "metadata": {
    "collapsed": true
   },
   "outputs": [],
   "source": [
    "def get_words(file_path):\n",
    "    \"\"\"Return a list of words from a file, converted to lower case.\"\"\"\n",
    "    with open(file_path, encoding='utf-8') as hfile:\n",
    "        return hfile.read().lower().split()"
   ]
  },
  {
   "cell_type": "code",
   "execution_count": 49,
   "metadata": {
    "collapsed": true
   },
   "outputs": [],
   "source": [
    "words = get_words(\"shakespeare.txt\")"
   ]
  },
  {
   "cell_type": "code",
   "execution_count": 51,
   "metadata": {
    "collapsed": true
   },
   "outputs": [],
   "source": [
    "def get_stopwords(file_path):\n",
    "    with open(file_path, encoding='utf-8') as hfile:\n",
    "        return hfile.read().lower().split()"
   ]
  },
  {
   "cell_type": "code",
   "execution_count": 52,
   "metadata": {},
   "outputs": [],
   "source": [
    "stopswords = get_words(\"stopwords.txt\")"
   ]
  },
  {
   "cell_type": "code",
   "execution_count": 94,
   "metadata": {
    "collapsed": true
   },
   "outputs": [],
   "source": [
    "def get_probabilities(words, stopwords, k):\n",
    "    \"\"\"\n",
    "    Create a multinomial probability distribution from a list of words:\n",
    "        1. Find the top-k most frequent words.\n",
    "        2. For every one of the most frequent words, calculate its probability according to MLE.\n",
    "\n",
    "    Return a dictionary of size k that maps the words to their probabilities.\n",
    "    \"\"\"\n",
    "    # TODO\n",
    "    # find the top-k most frequent words\n",
    "    words_new = []\n",
    "    for i in words:\n",
    "        if i in stopwords:\n",
    "            continue\n",
    "        else:\n",
    "            words_new.append(i)\n",
    "    top_k_words = Counter(words_new).most_common(k)\n",
    "            \n",
    "    # for every one of the most frequent words, calculate its probability according to MLE\n",
    "    dictionary = {}\n",
    "    for word, num in top_k_words:\n",
    "        dictionary[word] = num/len(words_new)\n",
    "        \n",
    "    return dictionary"
   ]
  },
  {
   "cell_type": "code",
   "execution_count": 95,
   "metadata": {},
   "outputs": [],
   "source": [
    "probabilities = get_probabilities(words, stopwords, 20)"
   ]
  },
  {
   "cell_type": "code",
   "execution_count": 96,
   "metadata": {},
   "outputs": [
    {
     "data": {
      "text/plain": [
       "{'!': 0.01815353412712648,\n",
       " ',': 0.14112191117427117,\n",
       " '.': 0.0629734129885898,\n",
       " ':': 0.018177679051863297,\n",
       " ';': 0.02979138785027387,\n",
       " '?': 0.0175861283958112,\n",
       " 'come': 0.004406448764469708,\n",
       " 'good': 0.004825535672401661,\n",
       " 'hath': 0.003295782226575974,\n",
       " 'let': 0.0036079416106734367,\n",
       " 'lord': 0.004680666123980739,\n",
       " 'love': 0.003266463389395549,\n",
       " 'man': 0.003114695291049821,\n",
       " 'shall': 0.006194897832475614,\n",
       " 'sir': 0.004375405289808083,\n",
       " 'thee': 0.005351550104168104,\n",
       " 'thou': 0.009216462699540557,\n",
       " 'thy': 0.006572593440858731,\n",
       " 'well': 0.0037545357965755597,\n",
       " 'would': 0.003989086494018957}"
      ]
     },
     "execution_count": 96,
     "metadata": {},
     "output_type": "execute_result"
    }
   ],
   "source": [
    "probabilities"
   ]
  },
  {
   "cell_type": "code",
   "execution_count": 112,
   "metadata": {
    "collapsed": true
   },
   "outputs": [],
   "source": [
    "def multinomial_pmf(observation, probabilities):\n",
    "    \"\"\"\n",
    "    The multinomial probability mass function.\n",
    "    Inputs:\n",
    "        * observation: dictionary, maps words (X_i) to observed frequencies (x_i)\n",
    "        * probabilities: dictionary, maps words to their probabilities (p_i)\n",
    "\n",
    "    Return the probability for the observation, i.e. P(X_1=x_1, ..., X_k=x_k).\n",
    "    \"\"\"\n",
    "    # TODO\n",
    "    probability = {}\n",
    "    n = 0\n",
    "    for word, num in observation.items():\n",
    "        n = n + num\n",
    "    # pi = xi/n\n",
    "    for word, num in observation.items():\n",
    "        probability[word] = num/n\n",
    "    \n",
    "    return probability"
   ]
  }
 ],
 "metadata": {
  "kernelspec": {
   "display_name": "Python 3",
   "language": "python",
   "name": "python3"
  },
  "language_info": {
   "codemirror_mode": {
    "name": "ipython",
    "version": 3
   },
   "file_extension": ".py",
   "mimetype": "text/x-python",
   "name": "python",
   "nbconvert_exporter": "python",
   "pygments_lexer": "ipython3",
   "version": "3.6.3"
  }
 },
 "nbformat": 4,
 "nbformat_minor": 2
}
